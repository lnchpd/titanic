{
 "cells": [
  {
   "cell_type": "code",
   "execution_count": 4,
   "metadata": {
    "collapsed": false
   },
   "outputs": [
    {
     "name": "stdout",
     "output_type": "stream",
     "text": [
      "   PassengerId  Survived  Pclass  \\\n",
      "0            1         0       3   \n",
      "1            2         1       1   \n",
      "2            3         1       3   \n",
      "3            4         1       1   \n",
      "4            5         0       3   \n",
      "\n",
      "                                                Name     Sex   Age  SibSp  \\\n",
      "0                            Braund, Mr. Owen Harris    male  22.0      1   \n",
      "1  Cumings, Mrs. John Bradley (Florence Briggs Th...  female  38.0      1   \n",
      "2                             Heikkinen, Miss. Laina  female  26.0      0   \n",
      "3       Futrelle, Mrs. Jacques Heath (Lily May Peel)  female  35.0      1   \n",
      "4                           Allen, Mr. William Henry    male  35.0      0   \n",
      "\n",
      "   Parch            Ticket     Fare Cabin Embarked  \n",
      "0      0         A/5 21171   7.2500   NaN        S  \n",
      "1      0          PC 17599  71.2833   C85        C  \n",
      "2      0  STON/O2. 3101282   7.9250   NaN        S  \n",
      "3      0            113803  53.1000  C123        S  \n",
      "4      0            373450   8.0500   NaN        S  \n"
     ]
    }
   ],
   "source": [
    "#determine how class, gender, and age affect survival rates for Titanic passengers\n",
    "\n",
    "#import libraries and data file\n",
    "\n",
    "import numpy as np\n",
    "import pandas as pd\n",
    "from matplotlib import pyplot as plt\n",
    "\n",
    "data_file = pd.read_csv('titanic_data.csv')\n",
    "\n",
    "print(data_file.head())"
   ]
  },
  {
   "cell_type": "code",
   "execution_count": 12,
   "metadata": {
    "collapsed": false
   },
   "outputs": [],
   "source": [
    "#categorize age\n",
    "\n",
    "def convert_age(age):\n",
    "    if age <= 3:\n",
    "        return 'infant'\n",
    "    elif age <= 12:\n",
    "        return 'child'\n",
    "    elif age <= 17:\n",
    "        return 'teenager'\n",
    "    elif age <= 60:\n",
    "        return 'adult'\n",
    "    else:\n",
    "        return 'senior'\n",
    "\n",
    "data_file['age_category'] = data_file['Age'].apply(convert_age)"
   ]
  },
  {
   "cell_type": "code",
   "execution_count": 11,
   "metadata": {
    "collapsed": false
   },
   "outputs": [
    {
     "name": "stdout",
     "output_type": "stream",
     "text": [
      "Pclass  Sex     age_category\n",
      "1       female  adult           0.973333\n",
      "                infant          0.000000\n",
      "                senior          1.000000\n",
      "                teenager        1.000000\n",
      "        male    adult           0.411765\n",
      "                child           1.000000\n",
      "                infant          1.000000\n",
      "                senior          0.181818\n",
      "                teenager        1.000000\n",
      "2       female  adult           0.903226\n",
      "                child           1.000000\n",
      "                infant          1.000000\n",
      "                senior          1.000000\n",
      "                teenager        1.000000\n",
      "        male    adult           0.058824\n",
      "                child           1.000000\n",
      "                infant          1.000000\n",
      "                senior          0.250000\n",
      "                teenager        0.000000\n",
      "3       female  adult           0.409091\n",
      "                child           0.428571\n",
      "                infant          0.555556\n",
      "                senior          0.604651\n",
      "                teenager        0.666667\n",
      "        male    adult           0.135922\n",
      "                child           0.312500\n",
      "                infant          0.444444\n",
      "                senior          0.091837\n",
      "                teenager        0.055556\n",
      "Name: Survived, dtype: float64\n"
     ]
    }
   ],
   "source": [
    "#check average survivability by class, gender and age\n",
    "\n",
    "group_by_age_category = data_file.groupby(['Pclass','Sex','age_category'])['Survived'].mean()\n",
    "print(group_by_age_category)"
   ]
  },
  {
   "cell_type": "code",
   "execution_count": 15,
   "metadata": {
    "collapsed": false
   },
   "outputs": [
    {
     "name": "stdout",
     "output_type": "stream",
     "text": [
      "Age\n",
      "0.42     1.000000\n",
      "0.67     1.000000\n",
      "0.75     1.000000\n",
      "0.83     1.000000\n",
      "0.92     1.000000\n",
      "1.00     0.714286\n",
      "2.00     0.300000\n",
      "3.00     0.833333\n",
      "4.00     0.700000\n",
      "5.00     1.000000\n",
      "6.00     0.666667\n",
      "7.00     0.333333\n",
      "8.00     0.500000\n",
      "9.00     0.250000\n",
      "10.00    0.000000\n",
      "11.00    0.250000\n",
      "12.00    1.000000\n",
      "13.00    1.000000\n",
      "14.00    0.500000\n",
      "14.50    0.000000\n",
      "15.00    0.800000\n",
      "16.00    0.352941\n",
      "17.00    0.461538\n",
      "18.00    0.346154\n",
      "19.00    0.360000\n",
      "20.00    0.200000\n",
      "20.50    0.000000\n",
      "21.00    0.208333\n",
      "22.00    0.407407\n",
      "23.00    0.333333\n",
      "           ...   \n",
      "44.00    0.333333\n",
      "45.00    0.416667\n",
      "45.50    0.000000\n",
      "46.00    0.000000\n",
      "47.00    0.111111\n",
      "48.00    0.666667\n",
      "49.00    0.666667\n",
      "50.00    0.500000\n",
      "51.00    0.285714\n",
      "52.00    0.500000\n",
      "53.00    1.000000\n",
      "54.00    0.375000\n",
      "55.00    0.500000\n",
      "55.50    0.000000\n",
      "56.00    0.500000\n",
      "57.00    0.000000\n",
      "58.00    0.600000\n",
      "59.00    0.000000\n",
      "60.00    0.500000\n",
      "61.00    0.000000\n",
      "62.00    0.500000\n",
      "63.00    1.000000\n",
      "64.00    0.000000\n",
      "65.00    0.000000\n",
      "66.00    0.000000\n",
      "70.00    0.000000\n",
      "70.50    0.000000\n",
      "71.00    0.000000\n",
      "74.00    0.000000\n",
      "80.00    1.000000\n",
      "Name: Survived, dtype: float64\n"
     ]
    },
    {
     "data": {
      "text/plain": [
       "[<matplotlib.lines.Line2D at 0x10d0a8278>]"
      ]
     },
     "execution_count": 15,
     "metadata": {},
     "output_type": "execute_result"
    },
    {
     "data": {
      "image/png": "[encoded data removed]",
      "text/plain": [
       "<matplotlib.figure.Figure at 0x1108fbcc0>"
      ]
     },
     "metadata": {},
     "output_type": "display_data"
    }
   ],
   "source": [
    "%matplotlib inline\n",
    "\n",
    "group_by_age = data_file.groupby('Age')['Survived'].mean()\n",
    "print(group_by_age)\n",
    "plt.plot(group_by_age)"
   ]
  },
  {
   "cell_type": "code",
   "execution_count": null,
   "metadata": {
    "collapsed": true
   },
   "outputs": [],
   "source": []
  }
 ],
 "metadata": {
  "kernelspec": {
   "display_name": "Python 3",
   "language": "python",
   "name": "python3"
  },
  "language_info": {
   "codemirror_mode": {
    "name": "ipython",
    "version": 3
   },
   "file_extension": ".py",
   "mimetype": "text/x-python",
   "name": "python",
   "nbconvert_exporter": "python",
   "pygments_lexer": "ipython3",
   "version": "3.6.0"
  }
 },
 "nbformat": 4,
 "nbformat_minor": 2
}
