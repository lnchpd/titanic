{
 "cells": [
  {
   "cell_type": "code",
   "execution_count": 2,
   "metadata": {
    "collapsed": false
   },
   "outputs": [
    {
     "name": "stdout",
     "output_type": "stream",
     "text": [
      "   PassengerId  Survived  Pclass  \\\n",
      "0            1         0       3   \n",
      "1            2         1       1   \n",
      "2            3         1       3   \n",
      "3            4         1       1   \n",
      "4            5         0       3   \n",
      "\n",
      "                                                Name     Sex   Age  SibSp  \\\n",
      "0                            Braund, Mr. Owen Harris    male  22.0      1   \n",
      "1  Cumings, Mrs. John Bradley (Florence Briggs Th...  female  38.0      1   \n",
      "2                             Heikkinen, Miss. Laina  female  26.0      0   \n",
      "3       Futrelle, Mrs. Jacques Heath (Lily May Peel)  female  35.0      1   \n",
      "4                           Allen, Mr. William Henry    male  35.0      0   \n",
      "\n",
      "   Parch            Ticket     Fare Cabin Embarked  \n",
      "0      0         A/5 21171   7.2500   NaN        S  \n",
      "1      0          PC 17599  71.2833   C85        C  \n",
      "2      0  STON/O2. 3101282   7.9250   NaN        S  \n",
      "3      0            113803  53.1000  C123        S  \n",
      "4      0            373450   8.0500   NaN        S  \n"
     ]
    }
   ],
   "source": [
    "#determine how class, gender, and age affect survival rates for Titanic passengers\n",
    "\n",
    "#import libraries and data file\n",
    "\n",
    "import numpy as np\n",
    "import pandas as pd\n",
    "from matplotlib import pyplot as plt\n",
    "\n",
    "data_file = pd.read_csv('titanic_data.csv')\n",
    "\n",
    "print(data_file.head())"
   ]
  },
  {
   "cell_type": "code",
   "execution_count": 3,
   "metadata": {
    "collapsed": false
   },
   "outputs": [],
   "source": [
    "#categorize age\n",
    "\n",
    "def convert_age(age):\n",
    "    if age <= 3:\n",
    "        return 'infant'\n",
    "    elif age <= 12:\n",
    "        return 'child'\n",
    "    elif age <= 17:\n",
    "        return 'teenager'\n",
    "    elif age <= 60:\n",
    "        return 'adult'\n",
    "    else:\n",
    "        return 'senior'\n",
    "\n",
    "data_file['age_category'] = data_file['Age'].apply(convert_age)"
   ]
  },
  {
   "cell_type": "code",
   "execution_count": 9,
   "metadata": {
    "collapsed": false
   },
   "outputs": [
    {
     "name": "stdout",
     "output_type": "stream",
     "text": [
      "                 PassengerId  Pclass  Name  Age  SibSp  Parch  Ticket  Fare  \\\n",
      "Sex    Survived                                                               \n",
      "female 0                  81      81    81   64     81     81      81    81   \n",
      "       1                 233     233   233  197    233    233     233   233   \n",
      "male   0                 468     468   468  360    468    468     468   468   \n",
      "       1                 109     109   109   93    109    109     109   109   \n",
      "\n",
      "                 Cabin  Embarked  age_category  \n",
      "Sex    Survived                                 \n",
      "female 0             6        81            81  \n",
      "       1            91       231           233  \n",
      "male   0            62       468           468  \n",
      "       1            45       109           109  \n"
     ]
    }
   ],
   "source": [
    "%matplotlib inline\n",
    "\n",
    "print(data_file.groupby(['Sex','Survived']).count())"
   ]
  },
  {
   "cell_type": "code",
   "execution_count": 4,
   "metadata": {
    "collapsed": false
   },
   "outputs": [
    {
     "name": "stdout",
     "output_type": "stream",
     "text": [
      "Pclass  Sex     age_category\n",
      "1       female  adult           0.973333\n",
      "                infant          0.000000\n",
      "                senior          1.000000\n",
      "                teenager        1.000000\n",
      "        male    adult           0.411765\n",
      "                child           1.000000\n",
      "                infant          1.000000\n",
      "                senior          0.181818\n",
      "                teenager        1.000000\n",
      "2       female  adult           0.903226\n",
      "                child           1.000000\n",
      "                infant          1.000000\n",
      "                senior          1.000000\n",
      "                teenager        1.000000\n",
      "        male    adult           0.058824\n",
      "                child           1.000000\n",
      "                infant          1.000000\n",
      "                senior          0.250000\n",
      "                teenager        0.000000\n",
      "3       female  adult           0.409091\n",
      "                child           0.428571\n",
      "                infant          0.555556\n",
      "                senior          0.604651\n",
      "                teenager        0.666667\n",
      "        male    adult           0.135922\n",
      "                child           0.312500\n",
      "                infant          0.444444\n",
      "                senior          0.091837\n",
      "                teenager        0.055556\n",
      "Name: Survived, dtype: float64\n"
     ]
    }
   ],
   "source": [
    "#check average survivability by class, gender and age\n",
    "\n",
    "group_by_age_category = data_file.groupby(['Pclass','Sex','age_category'])['Survived'].mean()\n",
    "print(group_by_age_category)"
   ]
  },
  {
   "cell_type": "code",
   "execution_count": null,
   "metadata": {
    "collapsed": true
   },
   "outputs": [],
   "source": []
  }
 ],
 "metadata": {
  "kernelspec": {
   "display_name": "Python 3",
   "language": "python",
   "name": "python3"
  },
  "language_info": {
   "codemirror_mode": {
    "name": "ipython",
    "version": 3
   },
   "file_extension": ".py",
   "mimetype": "text/x-python",
   "name": "python",
   "nbconvert_exporter": "python",
   "pygments_lexer": "ipython3",
   "version": "3.6.0"
  }
 },
 "nbformat": 4,
 "nbformat_minor": 2
}
